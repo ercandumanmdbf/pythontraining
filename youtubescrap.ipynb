{
 "cells": [
  {
   "cell_type": "code",
   "execution_count": 2,
   "id": "b8e8ae4c-6bbc-4c44-bb3d-4ad769fad569",
   "metadata": {},
   "outputs": [],
   "source": [
    "from bs4 import BeautifulSoup"
   ]
  },
  {
   "cell_type": "code",
   "execution_count": 3,
   "id": "c541b71c-425e-460a-8f0a-3338b34ae17d",
   "metadata": {},
   "outputs": [],
   "source": [
    "import requests"
   ]
  },
  {
   "cell_type": "code",
   "execution_count": 6,
   "id": "02f810e7-8bdb-465b-89fd-63509d1b5686",
   "metadata": {},
   "outputs": [],
   "source": [
    "anemon_url =\"https://www.youtube.com/@Anemonhotels45\""
   ]
  },
  {
   "cell_type": "code",
   "execution_count": 7,
   "id": "37bd3f75-e787-4782-b1b0-7fd3aed6b09d",
   "metadata": {},
   "outputs": [],
   "source": [
    "data=requests.get(anemon_url)"
   ]
  },
  {
   "cell_type": "code",
   "execution_count": 21,
   "id": "2589f783-05ae-4905-8e3d-3988921d570f",
   "metadata": {
    "tags": []
   },
   "outputs": [
    {
     "data": {
      "text/plain": [
       "<Response [200]>"
      ]
     },
     "execution_count": 21,
     "metadata": {},
     "output_type": "execute_result"
    }
   ],
   "source": [
    "data"
   ]
  },
  {
   "cell_type": "code",
   "execution_count": 27,
   "id": "ba70e630-92c7-4154-83ee-d506171568e8",
   "metadata": {},
   "outputs": [],
   "source": [
    "# buraya html parse girdim\n",
    "soup=BeautifulSoup(data.text,\"html.parser\")\n",
    "# subscriber bul\n",
    "subscriber = soup.find(\"span\",{'subscriber-count'})"
   ]
  },
  {
   "cell_type": "code",
   "execution_count": 28,
   "id": "a59f84b2-3b4f-4f64-8f43-ccf3924f7bcc",
   "metadata": {},
   "outputs": [
    {
     "name": "stdout",
     "output_type": "stream",
     "text": [
      "ABone sayisi:None\n"
     ]
    }
   ],
   "source": [
    "print(f\"ABone sayisi:{subscriber}\")"
   ]
  },
  {
   "cell_type": "code",
   "execution_count": null,
   "id": "f3f5d3b2-b205-4a23-b03b-61f6c8d61acd",
   "metadata": {},
   "outputs": [],
   "source": []
  }
 ],
 "metadata": {
  "kernelspec": {
   "display_name": "Python 3 (ipykernel)",
   "language": "python",
   "name": "python3"
  },
  "language_info": {
   "codemirror_mode": {
    "name": "ipython",
    "version": 3
   },
   "file_extension": ".py",
   "mimetype": "text/x-python",
   "name": "python",
   "nbconvert_exporter": "python",
   "pygments_lexer": "ipython3",
   "version": "3.10.9"
  }
 },
 "nbformat": 4,
 "nbformat_minor": 5
}
