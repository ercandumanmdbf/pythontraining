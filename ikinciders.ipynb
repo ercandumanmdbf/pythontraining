{
 "cells": [
  {
   "cell_type": "markdown",
   "id": "a4dc1430-649a-43e5-9999-2431ca619322",
   "metadata": {},
   "source": [
    "# Index ile elemanlara erişme"
   ]
  },
  {
   "cell_type": "code",
   "execution_count": 1,
   "id": "638375ad-6573-4370-b0e2-d54000b461b6",
   "metadata": {},
   "outputs": [],
   "source": [
    "import numpy as np"
   ]
  },
  {
   "cell_type": "code",
   "execution_count": 2,
   "id": "b6e9e2a3-b920-4abe-96fd-9990ec8ea83d",
   "metadata": {},
   "outputs": [],
   "source": [
    "a=np.random.randint(10,size=10)"
   ]
  },
  {
   "cell_type": "code",
   "execution_count": 3,
   "id": "032c8f09-3bf2-4699-bbc5-b55a4fe1a8f5",
   "metadata": {},
   "outputs": [
    {
     "data": {
      "text/plain": [
       "array([8, 2, 5, 7, 5, 4, 2, 7, 5, 3])"
      ]
     },
     "execution_count": 3,
     "metadata": {},
     "output_type": "execute_result"
    }
   ],
   "source": [
    "a"
   ]
  },
  {
   "cell_type": "code",
   "execution_count": 8,
   "id": "21e8ae84-95f9-4b8f-84f8-318abdf27b1b",
   "metadata": {},
   "outputs": [
    {
     "data": {
      "text/plain": [
       "8"
      ]
     },
     "execution_count": 8,
     "metadata": {},
     "output_type": "execute_result"
    }
   ],
   "source": [
    "a[0]"
   ]
  },
  {
   "cell_type": "code",
   "execution_count": 6,
   "id": "4e00cb82-f2a7-41de-b478-f6686fb89d1d",
   "metadata": {},
   "outputs": [
    {
     "data": {
      "text/plain": [
       "3"
      ]
     },
     "execution_count": 6,
     "metadata": {},
     "output_type": "execute_result"
    }
   ],
   "source": [
    "a[-1]"
   ]
  },
  {
   "cell_type": "code",
   "execution_count": 9,
   "id": "486aa926-92d3-4c0d-86af-5e4e55261401",
   "metadata": {},
   "outputs": [],
   "source": [
    "a[0]=100"
   ]
  },
  {
   "cell_type": "code",
   "execution_count": 10,
   "id": "5a6abd1b-7b67-40f8-a520-144f723c6b1c",
   "metadata": {},
   "outputs": [
    {
     "data": {
      "text/plain": [
       "array([100,   2,   5,   7,   5,   4,   2,   7,   5,   3])"
      ]
     },
     "execution_count": 10,
     "metadata": {},
     "output_type": "execute_result"
    }
   ],
   "source": [
    "a"
   ]
  },
  {
   "cell_type": "code",
   "execution_count": 11,
   "id": "928b4dac-f542-49c4-b0d7-d77b58c525c2",
   "metadata": {},
   "outputs": [],
   "source": [
    "m=np.random.randint(10,size=(3,5))"
   ]
  },
  {
   "cell_type": "code",
   "execution_count": 12,
   "id": "88eefaec-9929-45f7-a8ce-1d21ab0009a9",
   "metadata": {},
   "outputs": [
    {
     "data": {
      "text/plain": [
       "array([[0, 0, 1, 6, 9],\n",
       "       [9, 1, 0, 6, 0],\n",
       "       [6, 6, 1, 8, 0]])"
      ]
     },
     "execution_count": 12,
     "metadata": {},
     "output_type": "execute_result"
    }
   ],
   "source": [
    "m"
   ]
  },
  {
   "cell_type": "code",
   "execution_count": 13,
   "id": "6ad0c548-f8cb-47e9-8b50-f04575a0b0cd",
   "metadata": {},
   "outputs": [
    {
     "data": {
      "text/plain": [
       "0"
      ]
     },
     "execution_count": 13,
     "metadata": {},
     "output_type": "execute_result"
    }
   ],
   "source": [
    "m[0,0]"
   ]
  },
  {
   "cell_type": "code",
   "execution_count": 15,
   "id": "d14ff98a-958d-4801-944a-6fa6b3340645",
   "metadata": {},
   "outputs": [
    {
     "data": {
      "text/plain": [
       "6"
      ]
     },
     "execution_count": 15,
     "metadata": {},
     "output_type": "execute_result"
    }
   ],
   "source": [
    "m[1,3]"
   ]
  },
  {
   "cell_type": "code",
   "execution_count": 16,
   "id": "8cac69e6-3259-4036-9fa2-488877c9bed6",
   "metadata": {},
   "outputs": [],
   "source": [
    "m[2,3]=99"
   ]
  },
  {
   "cell_type": "code",
   "execution_count": 17,
   "id": "6ea42123-553a-434d-8391-4621f67b512a",
   "metadata": {},
   "outputs": [
    {
     "data": {
      "text/plain": [
       "array([[ 0,  0,  1,  6,  9],\n",
       "       [ 9,  1,  0,  6,  0],\n",
       "       [ 6,  6,  1, 99,  0]])"
      ]
     },
     "execution_count": 17,
     "metadata": {},
     "output_type": "execute_result"
    }
   ],
   "source": [
    "m"
   ]
  },
  {
   "cell_type": "code",
   "execution_count": 18,
   "id": "16918e9d-bee6-40ea-9f33-987d74628e3c",
   "metadata": {},
   "outputs": [],
   "source": [
    "m[1,1]=2.3"
   ]
  },
  {
   "cell_type": "code",
   "execution_count": 19,
   "id": "f4182b88-6fd7-4585-854c-bbd5b16056ae",
   "metadata": {},
   "outputs": [
    {
     "data": {
      "text/plain": [
       "array([[ 0,  0,  1,  6,  9],\n",
       "       [ 9,  2,  0,  6,  0],\n",
       "       [ 6,  6,  1, 99,  0]])"
      ]
     },
     "execution_count": 19,
     "metadata": {},
     "output_type": "execute_result"
    }
   ],
   "source": [
    "m"
   ]
  },
  {
   "cell_type": "markdown",
   "id": "97dde334-5aa4-4670-b82c-38fed5ca7d48",
   "metadata": {},
   "source": [
    "**ondalıklı kesimi keserek ekler. int array içine sadece int float içine sadece float değer ekler.**"
   ]
  },
  {
   "cell_type": "markdown",
   "id": "6d620f03-6bbd-4c0d-97f9-557cad7c3da1",
   "metadata": {},
   "source": [
    "# Alt küme işlemi -- Slicing"
   ]
  },
  {
   "cell_type": "code",
   "execution_count": 20,
   "id": "55e2370e-f993-4fcf-a535-13c2acf9f50b",
   "metadata": {},
   "outputs": [],
   "source": [
    "sa=np.arange(20,30)"
   ]
  },
  {
   "cell_type": "code",
   "execution_count": 21,
   "id": "9f11635a-da5d-4c9c-af8e-76d64ea7c78e",
   "metadata": {},
   "outputs": [
    {
     "data": {
      "text/plain": [
       "array([20, 21, 22, 23, 24, 25, 26, 27, 28, 29])"
      ]
     },
     "execution_count": 21,
     "metadata": {},
     "output_type": "execute_result"
    }
   ],
   "source": [
    "sa"
   ]
  },
  {
   "cell_type": "code",
   "execution_count": 22,
   "id": "16a33dad-4bfc-44d8-9187-a58fd8485dcf",
   "metadata": {},
   "outputs": [
    {
     "data": {
      "text/plain": [
       "array([20, 21, 22])"
      ]
     },
     "execution_count": 22,
     "metadata": {},
     "output_type": "execute_result"
    }
   ],
   "source": [
    "sa[0:3]"
   ]
  },
  {
   "cell_type": "code",
   "execution_count": 23,
   "id": "d0bc0db7-9ff5-4901-9285-28c29d8ea479",
   "metadata": {},
   "outputs": [
    {
     "data": {
      "text/plain": [
       "array([22, 23, 24, 25, 26, 27, 28, 29])"
      ]
     },
     "execution_count": 23,
     "metadata": {},
     "output_type": "execute_result"
    }
   ],
   "source": [
    "sa[2:]"
   ]
  },
  {
   "cell_type": "code",
   "execution_count": 24,
   "id": "5e355ee8-f390-4dad-bfa1-d627489f0cfc",
   "metadata": {},
   "outputs": [
    {
     "data": {
      "text/plain": [
       "array([24, 25, 26])"
      ]
     },
     "execution_count": 24,
     "metadata": {},
     "output_type": "execute_result"
    }
   ],
   "source": [
    "sa[4:7]"
   ]
  },
  {
   "cell_type": "code",
   "execution_count": 25,
   "id": "7623b8ae-10f0-4ba5-9d7b-c640b7c7c05a",
   "metadata": {},
   "outputs": [
    {
     "data": {
      "text/plain": [
       "array([20, 21, 22, 23, 24])"
      ]
     },
     "execution_count": 25,
     "metadata": {},
     "output_type": "execute_result"
    }
   ],
   "source": [
    "sa[:5]"
   ]
  },
  {
   "cell_type": "code",
   "execution_count": 26,
   "id": "76671e74-fec6-49fd-8e34-f8ccb92f6c5c",
   "metadata": {},
   "outputs": [
    {
     "data": {
      "text/plain": [
       "array([20, 23, 26, 29])"
      ]
     },
     "execution_count": 26,
     "metadata": {},
     "output_type": "execute_result"
    }
   ],
   "source": [
    "sa[0::3]"
   ]
  },
  {
   "cell_type": "markdown",
   "id": "518c23a0-fcce-4351-af66-8902fc4af18a",
   "metadata": {},
   "source": [
    "## iki boyutlu slice işlemleri"
   ]
  },
  {
   "cell_type": "code",
   "execution_count": 28,
   "id": "0ab8545e-6f64-410d-9bab-f93c62cf11c7",
   "metadata": {},
   "outputs": [],
   "source": [
    "mm=np.random.randint(10,size=(5,5))"
   ]
  },
  {
   "cell_type": "code",
   "execution_count": 29,
   "id": "b94e151a-ecad-412c-a20b-82c6e9ba4ae3",
   "metadata": {},
   "outputs": [
    {
     "data": {
      "text/plain": [
       "array([[1, 7, 0, 1, 3],\n",
       "       [9, 1, 4, 7, 6],\n",
       "       [6, 2, 1, 4, 2],\n",
       "       [8, 9, 5, 0, 9],\n",
       "       [2, 7, 3, 0, 1]])"
      ]
     },
     "execution_count": 29,
     "metadata": {},
     "output_type": "execute_result"
    }
   ],
   "source": [
    "mm"
   ]
  },
  {
   "cell_type": "code",
   "execution_count": 30,
   "id": "a3294d6c-c649-4fe0-83e2-ab3a83fc5892",
   "metadata": {},
   "outputs": [
    {
     "data": {
      "text/plain": [
       "array([[0],\n",
       "       [4],\n",
       "       [1],\n",
       "       [5],\n",
       "       [3]])"
      ]
     },
     "execution_count": 30,
     "metadata": {},
     "output_type": "execute_result"
    }
   ],
   "source": [
    "mm[:,2:3]"
   ]
  },
  {
   "cell_type": "code",
   "execution_count": 32,
   "id": "5c36f174-d8d2-4444-a7e1-a08902e61f50",
   "metadata": {},
   "outputs": [
    {
     "data": {
      "text/plain": [
       "array([[9, 1],\n",
       "       [6, 2],\n",
       "       [8, 9]])"
      ]
     },
     "execution_count": 32,
     "metadata": {},
     "output_type": "execute_result"
    }
   ],
   "source": [
    "mm[1:4,0:2]"
   ]
  },
  {
   "cell_type": "code",
   "execution_count": 33,
   "id": "4f708beb-8897-4be2-9fae-d121dd185583",
   "metadata": {},
   "outputs": [
    {
     "data": {
      "text/plain": [
       "array([1, 7, 0, 1, 3])"
      ]
     },
     "execution_count": 33,
     "metadata": {},
     "output_type": "execute_result"
    }
   ],
   "source": [
    "mm[0]"
   ]
  },
  {
   "cell_type": "code",
   "execution_count": 34,
   "id": "3e6632d1-51df-4d72-90b0-2a6528b97833",
   "metadata": {},
   "outputs": [
    {
     "data": {
      "text/plain": [
       "array([1, 7, 4, 0, 0])"
      ]
     },
     "execution_count": 34,
     "metadata": {},
     "output_type": "execute_result"
    }
   ],
   "source": [
    "mm[:,3]"
   ]
  },
  {
   "cell_type": "markdown",
   "id": "6221c887-01c7-4e91-a312-684157f9a1d7",
   "metadata": {},
   "source": [
    "# Alt küme üzerinde işlem yapmak"
   ]
  },
  {
   "cell_type": "code",
   "execution_count": 1,
   "id": "a69d6b55-fb61-4996-8004-a6c2ccb5ee0e",
   "metadata": {},
   "outputs": [],
   "source": [
    "import numpy as np"
   ]
  },
  {
   "cell_type": "code",
   "execution_count": 2,
   "id": "6637def5-8420-4feb-a278-6f1e77d0c3b4",
   "metadata": {},
   "outputs": [],
   "source": [
    "a=np.random.randint(10,size=(5,5))"
   ]
  },
  {
   "cell_type": "code",
   "execution_count": 3,
   "id": "f56e150f-96d5-4fca-9e18-4b0ce83931b1",
   "metadata": {},
   "outputs": [
    {
     "data": {
      "text/plain": [
       "array([[9, 2, 0, 2, 2],\n",
       "       [0, 7, 2, 9, 8],\n",
       "       [5, 8, 9, 5, 4],\n",
       "       [0, 8, 0, 0, 4],\n",
       "       [5, 5, 1, 6, 8]])"
      ]
     },
     "execution_count": 3,
     "metadata": {},
     "output_type": "execute_result"
    }
   ],
   "source": [
    "a"
   ]
  },
  {
   "cell_type": "code",
   "execution_count": 4,
   "id": "bd4f9610-2121-45c5-aa2f-838567ffea53",
   "metadata": {},
   "outputs": [],
   "source": [
    "alt_a=a[0:3,0:2]"
   ]
  },
  {
   "cell_type": "code",
   "execution_count": 5,
   "id": "4b09f4b3-294e-4e3a-98ce-92dcaa6ed90c",
   "metadata": {},
   "outputs": [
    {
     "data": {
      "text/plain": [
       "array([[9, 2],\n",
       "       [0, 7],\n",
       "       [5, 8]])"
      ]
     },
     "execution_count": 5,
     "metadata": {},
     "output_type": "execute_result"
    }
   ],
   "source": [
    "alt_a"
   ]
  },
  {
   "cell_type": "code",
   "execution_count": 6,
   "id": "dc1afd6c-8a84-41e6-b5d1-c28e2a2fa35d",
   "metadata": {},
   "outputs": [],
   "source": [
    "alt_a[0,0]=9999\n",
    "alt_a[1,1]=888"
   ]
  },
  {
   "cell_type": "code",
   "execution_count": 7,
   "id": "55a5678f-2214-47a7-8847-fc04f87b3a20",
   "metadata": {},
   "outputs": [
    {
     "data": {
      "text/plain": [
       "array([[9999,    2],\n",
       "       [   0,  888],\n",
       "       [   5,    8]])"
      ]
     },
     "execution_count": 7,
     "metadata": {},
     "output_type": "execute_result"
    }
   ],
   "source": [
    "alt_a"
   ]
  },
  {
   "cell_type": "code",
   "execution_count": 8,
   "id": "2a2718a8-55fe-44c3-b920-fc94a975c2b6",
   "metadata": {},
   "outputs": [
    {
     "data": {
      "text/plain": [
       "array([[9999,    2,    0,    2,    2],\n",
       "       [   0,  888,    2,    9,    8],\n",
       "       [   5,    8,    9,    5,    4],\n",
       "       [   0,    8,    0,    0,    4],\n",
       "       [   5,    5,    1,    6,    8]])"
      ]
     },
     "execution_count": 8,
     "metadata": {},
     "output_type": "execute_result"
    }
   ],
   "source": [
    "a"
   ]
  },
  {
   "cell_type": "code",
   "execution_count": 9,
   "id": "ff58d688-70ea-4a7b-9a42-657d41bacb35",
   "metadata": {},
   "outputs": [],
   "source": [
    "m=np.random.randint(10,size=(5,5))"
   ]
  },
  {
   "cell_type": "code",
   "execution_count": 10,
   "id": "668725d9-6b1c-487a-a261-1f0ee2b1bf1c",
   "metadata": {},
   "outputs": [
    {
     "data": {
      "text/plain": [
       "array([[8, 9, 1, 6, 4],\n",
       "       [7, 2, 3, 0, 4],\n",
       "       [6, 4, 2, 1, 3],\n",
       "       [2, 0, 4, 0, 5],\n",
       "       [8, 3, 6, 6, 9]])"
      ]
     },
     "execution_count": 10,
     "metadata": {},
     "output_type": "execute_result"
    }
   ],
   "source": [
    "m"
   ]
  },
  {
   "cell_type": "code",
   "execution_count": 13,
   "id": "4482de69-ba62-41f1-8c74-e4530fe7b674",
   "metadata": {},
   "outputs": [
    {
     "data": {
      "text/plain": [
       "array([[8, 9],\n",
       "       [7, 2],\n",
       "       [6, 4]])"
      ]
     },
     "execution_count": 13,
     "metadata": {},
     "output_type": "execute_result"
    }
   ],
   "source": [
    "alt_b=m[0:3,0:2].copy()\n",
    "alt_b"
   ]
  },
  {
   "cell_type": "code",
   "execution_count": 14,
   "id": "93e2e930-16c5-41af-b313-651ef83fef93",
   "metadata": {},
   "outputs": [],
   "source": [
    "alt_b[0:1]=100"
   ]
  },
  {
   "cell_type": "code",
   "execution_count": 15,
   "id": "ba435b57-bf17-434f-9148-3e844bb0e0c0",
   "metadata": {},
   "outputs": [
    {
     "data": {
      "text/plain": [
       "array([[100, 100],\n",
       "       [  7,   2],\n",
       "       [  6,   4]])"
      ]
     },
     "execution_count": 15,
     "metadata": {},
     "output_type": "execute_result"
    }
   ],
   "source": [
    "alt_b"
   ]
  },
  {
   "cell_type": "code",
   "execution_count": 16,
   "id": "4165c934-f474-41d1-9638-c48fccb53f25",
   "metadata": {},
   "outputs": [
    {
     "data": {
      "text/plain": [
       "array([[8, 9, 1, 6, 4],\n",
       "       [7, 2, 3, 0, 4],\n",
       "       [6, 4, 2, 1, 3],\n",
       "       [2, 0, 4, 0, 5],\n",
       "       [8, 3, 6, 6, 9]])"
      ]
     },
     "execution_count": 16,
     "metadata": {},
     "output_type": "execute_result"
    }
   ],
   "source": [
    "m"
   ]
  },
  {
   "cell_type": "markdown",
   "id": "dc6d8b8c-6a58-48e1-a80b-ec17c3361a8d",
   "metadata": {},
   "source": [
    "# Fancy Index ile Elemanlara Erişmek (**önemli**)"
   ]
  },
  {
   "cell_type": "code",
   "execution_count": 17,
   "id": "a76a27cb-23bf-4127-ab5c-e747e85292e0",
   "metadata": {},
   "outputs": [],
   "source": [
    "v=np.arange(0,30,3)"
   ]
  },
  {
   "cell_type": "code",
   "execution_count": 18,
   "id": "9544d4be-98da-46ae-a257-03562397455d",
   "metadata": {},
   "outputs": [
    {
     "data": {
      "text/plain": [
       "array([ 0,  3,  6,  9, 12, 15, 18, 21, 24, 27])"
      ]
     },
     "execution_count": 18,
     "metadata": {},
     "output_type": "execute_result"
    }
   ],
   "source": [
    "v"
   ]
  },
  {
   "cell_type": "code",
   "execution_count": 19,
   "id": "ef45fbd9-d0dd-4173-afd7-6c472a036c57",
   "metadata": {},
   "outputs": [
    {
     "data": {
      "text/plain": [
       "3"
      ]
     },
     "execution_count": 19,
     "metadata": {},
     "output_type": "execute_result"
    }
   ],
   "source": [
    "v[1]"
   ]
  },
  {
   "cell_type": "code",
   "execution_count": 21,
   "id": "c1e159cd-4082-49c8-836c-b5c38d84fa84",
   "metadata": {},
   "outputs": [
    {
     "data": {
      "text/plain": [
       "[3, 9, 15]"
      ]
     },
     "execution_count": 21,
     "metadata": {},
     "output_type": "execute_result"
    }
   ],
   "source": [
    "[v[1],v[3],v[5]]"
   ]
  },
  {
   "cell_type": "code",
   "execution_count": 22,
   "id": "20cbc379-39ab-4c39-8042-2da648a3b884",
   "metadata": {},
   "outputs": [],
   "source": [
    "al_getir=[1,3,5]"
   ]
  },
  {
   "cell_type": "code",
   "execution_count": 23,
   "id": "6f923b46-b42a-4165-82b2-270576f6a868",
   "metadata": {},
   "outputs": [
    {
     "data": {
      "text/plain": [
       "array([ 3,  9, 15])"
      ]
     },
     "execution_count": 23,
     "metadata": {},
     "output_type": "execute_result"
    }
   ],
   "source": [
    "v[al_getir]"
   ]
  },
  {
   "cell_type": "markdown",
   "id": "b81341ec-736c-4c62-ac7c-037a438e255d",
   "metadata": {},
   "source": [
    "## iki boyutta fancy oluşturma"
   ]
  },
  {
   "cell_type": "code",
   "execution_count": 24,
   "id": "4eb56c46-d058-426f-a854-e7a27d990174",
   "metadata": {},
   "outputs": [],
   "source": [
    "mm=np.arange(9).reshape((3,3))"
   ]
  },
  {
   "cell_type": "code",
   "execution_count": 25,
   "id": "d68e2e3d-e523-4ba1-819c-2b5aaa45ed5b",
   "metadata": {},
   "outputs": [
    {
     "data": {
      "text/plain": [
       "array([[0, 1, 2],\n",
       "       [3, 4, 5],\n",
       "       [6, 7, 8]])"
      ]
     },
     "execution_count": 25,
     "metadata": {},
     "output_type": "execute_result"
    }
   ],
   "source": [
    "mm"
   ]
  },
  {
   "cell_type": "code",
   "execution_count": 26,
   "id": "44d0118b-9543-4a90-86c1-db29fa383af3",
   "metadata": {},
   "outputs": [],
   "source": [
    "satir=np.array([0,1])"
   ]
  },
  {
   "cell_type": "code",
   "execution_count": 27,
   "id": "31b202f6-1379-4e22-a1c8-89e61a3e5970",
   "metadata": {},
   "outputs": [],
   "source": [
    "sutun=np.array([1,2])"
   ]
  },
  {
   "cell_type": "code",
   "execution_count": 28,
   "id": "7aebcde9-596c-4e57-b753-a4c997513ffd",
   "metadata": {},
   "outputs": [
    {
     "data": {
      "text/plain": [
       "array([1, 5])"
      ]
     },
     "execution_count": 28,
     "metadata": {},
     "output_type": "execute_result"
    }
   ],
   "source": [
    "mm[satir,sutun]"
   ]
  },
  {
   "cell_type": "markdown",
   "id": "02ab1148-8ac6-430e-837b-43a4d1a18981",
   "metadata": {},
   "source": [
    "## basit index ile fancy index"
   ]
  },
  {
   "cell_type": "code",
   "execution_count": 29,
   "id": "dfc72593-86bd-420d-866b-bfb02a7e76e7",
   "metadata": {},
   "outputs": [
    {
     "data": {
      "text/plain": [
       "array([[0, 1, 2],\n",
       "       [3, 4, 5],\n",
       "       [6, 7, 8]])"
      ]
     },
     "execution_count": 29,
     "metadata": {},
     "output_type": "execute_result"
    }
   ],
   "source": [
    "mm"
   ]
  },
  {
   "cell_type": "code",
   "execution_count": 30,
   "id": "81d16463-fe1a-4023-910d-87441a404fbe",
   "metadata": {},
   "outputs": [
    {
     "data": {
      "text/plain": [
       "array([9, 1])"
      ]
     },
     "execution_count": 30,
     "metadata": {},
     "output_type": "execute_result"
    }
   ],
   "source": [
    "m[0,[1,2]]"
   ]
  },
  {
   "cell_type": "markdown",
   "id": "61b4ec3c-33e5-47d5-8685-4c03a5340dfb",
   "metadata": {},
   "source": [
    "## slice ile fancy"
   ]
  },
  {
   "cell_type": "code",
   "execution_count": 31,
   "id": "bb3f9a06-3fb2-4f02-9b10-81e45bbd493d",
   "metadata": {},
   "outputs": [
    {
     "data": {
      "text/plain": [
       "array([[9, 1],\n",
       "       [2, 3],\n",
       "       [4, 2],\n",
       "       [0, 4],\n",
       "       [3, 6]])"
      ]
     },
     "execution_count": 31,
     "metadata": {},
     "output_type": "execute_result"
    }
   ],
   "source": [
    "m[0:,[1,2]]"
   ]
  },
  {
   "cell_type": "markdown",
   "id": "ba93fc91-0683-4989-a53c-a481fd4935de",
   "metadata": {},
   "source": [
    "# Koşullu eleman işlemleri"
   ]
  },
  {
   "cell_type": "code",
   "execution_count": 32,
   "id": "53a8f04e-89bd-4d39-b4ad-e37d8f638ec1",
   "metadata": {},
   "outputs": [],
   "source": [
    "bb=np.array([1,2,3,4,5])"
   ]
  },
  {
   "cell_type": "code",
   "execution_count": 33,
   "id": "93d3e42e-622d-487f-8c45-5f54fa6e23ee",
   "metadata": {},
   "outputs": [
    {
     "data": {
      "text/plain": [
       "array([False, False, False, False, False])"
      ]
     },
     "execution_count": 33,
     "metadata": {},
     "output_type": "execute_result"
    }
   ],
   "source": [
    "bb>5"
   ]
  },
  {
   "cell_type": "code",
   "execution_count": 34,
   "id": "e1e40a0c-95c5-48d8-8965-d8b3dc629eae",
   "metadata": {},
   "outputs": [
    {
     "data": {
      "text/plain": [
       "array([ True,  True, False, False, False])"
      ]
     },
     "execution_count": 34,
     "metadata": {},
     "output_type": "execute_result"
    }
   ],
   "source": [
    "bb<3"
   ]
  },
  {
   "cell_type": "code",
   "execution_count": 35,
   "id": "652c4c6c-0e6d-4475-b314-0afe83051023",
   "metadata": {},
   "outputs": [
    {
     "data": {
      "text/plain": [
       "array([False, False, False,  True, False])"
      ]
     },
     "execution_count": 35,
     "metadata": {},
     "output_type": "execute_result"
    }
   ],
   "source": [
    "bb==4"
   ]
  },
  {
   "cell_type": "code",
   "execution_count": 36,
   "id": "b0cfe2a9-2e8f-458c-bb11-c7020d16d6b4",
   "metadata": {},
   "outputs": [
    {
     "data": {
      "text/plain": [
       "array([1, 2])"
      ]
     },
     "execution_count": 36,
     "metadata": {},
     "output_type": "execute_result"
    }
   ],
   "source": [
    "bb[bb<3]"
   ]
  },
  {
   "cell_type": "code",
   "execution_count": 38,
   "id": "61ff164e-a8a6-49ab-a389-607bf66b84be",
   "metadata": {},
   "outputs": [
    {
     "data": {
      "text/plain": [
       "array([3, 4, 5])"
      ]
     },
     "execution_count": 38,
     "metadata": {},
     "output_type": "execute_result"
    }
   ],
   "source": [
    "bb[bb>=3]"
   ]
  },
  {
   "cell_type": "code",
   "execution_count": 39,
   "id": "74242fb6-a6e8-44fe-929e-fdaf73bbabe7",
   "metadata": {},
   "outputs": [
    {
     "data": {
      "text/plain": [
       "array([ 2,  4,  6,  8, 10])"
      ]
     },
     "execution_count": 39,
     "metadata": {},
     "output_type": "execute_result"
    }
   ],
   "source": [
    "bb*2"
   ]
  },
  {
   "cell_type": "code",
   "execution_count": 40,
   "id": "3ef228a1-04db-4dc2-ae61-94317182a615",
   "metadata": {},
   "outputs": [
    {
     "data": {
      "text/plain": [
       "array([  1,   8,  27,  64, 125], dtype=int32)"
      ]
     },
     "execution_count": 40,
     "metadata": {},
     "output_type": "execute_result"
    }
   ],
   "source": [
    "bb**3"
   ]
  },
  {
   "cell_type": "markdown",
   "id": "144d6a5e-0191-42a8-be35-5f4f58d9ba51",
   "metadata": {},
   "source": [
    "# matematiksel işlemler"
   ]
  },
  {
   "cell_type": "code",
   "execution_count": 41,
   "id": "c80a6a9d-2ac8-42c6-b62c-0979f91b648a",
   "metadata": {},
   "outputs": [],
   "source": [
    "import numpy as np"
   ]
  },
  {
   "cell_type": "code",
   "execution_count": 42,
   "id": "497ce1d3-b450-4c7c-a931-d0d5a3695e10",
   "metadata": {},
   "outputs": [],
   "source": [
    "g=np.array([1,2,3,4,5])"
   ]
  },
  {
   "cell_type": "code",
   "execution_count": 43,
   "id": "a4c4ebe0-978d-477c-9711-fb48ddcb4927",
   "metadata": {},
   "outputs": [
    {
     "data": {
      "text/plain": [
       "array([ 2,  4,  6,  8, 10])"
      ]
     },
     "execution_count": 43,
     "metadata": {},
     "output_type": "execute_result"
    }
   ],
   "source": [
    "g*2"
   ]
  },
  {
   "cell_type": "markdown",
   "id": "6430d624-ae97-4a8b-a0f7-5ee2a8d44660",
   "metadata": {},
   "source": [
    "## ufunc"
   ]
  },
  {
   "cell_type": "code",
   "execution_count": 44,
   "id": "f3d1aa44-0380-41ce-ab38-ea803028c2aa",
   "metadata": {},
   "outputs": [
    {
     "data": {
      "text/plain": [
       "array([-1,  2,  5,  8, 11, 14, 17, 20, 23, 26])"
      ]
     },
     "execution_count": 44,
     "metadata": {},
     "output_type": "execute_result"
    }
   ],
   "source": [
    "np.subtract(v,1)"
   ]
  },
  {
   "cell_type": "code",
   "execution_count": 45,
   "id": "7dd1ed04-467b-4e83-89af-65c2369d0e1c",
   "metadata": {},
   "outputs": [
    {
     "data": {
      "text/plain": [
       "array([-2, -1,  0,  1,  2])"
      ]
     },
     "execution_count": 45,
     "metadata": {},
     "output_type": "execute_result"
    }
   ],
   "source": [
    "np.subtract(g,3)"
   ]
  },
  {
   "cell_type": "code",
   "execution_count": 54,
   "id": "e7488356-31c7-4684-bd64-e4c5dfc7bba7",
   "metadata": {},
   "outputs": [
    {
     "data": {
      "text/plain": [
       "array([ 4,  7, 10, 13, 16, 19, 22, 25, 28, 31])"
      ]
     },
     "execution_count": 54,
     "metadata": {},
     "output_type": "execute_result"
    }
   ],
   "source": [
    "np.add(v,4)"
   ]
  },
  {
   "cell_type": "code",
   "execution_count": 47,
   "id": "e13b34d2-740a-4ca2-854a-52edff6575bf",
   "metadata": {},
   "outputs": [
    {
     "data": {
      "text/plain": [
       "array([5, 6, 7, 8, 9])"
      ]
     },
     "execution_count": 47,
     "metadata": {},
     "output_type": "execute_result"
    }
   ],
   "source": [
    "np.add(g,4)"
   ]
  },
  {
   "cell_type": "code",
   "execution_count": 48,
   "id": "c7e0c794-495d-480e-a97f-fb0d6b2a2f13",
   "metadata": {},
   "outputs": [
    {
     "data": {
      "text/plain": [
       "array([ 3,  6,  9, 12, 15])"
      ]
     },
     "execution_count": 48,
     "metadata": {},
     "output_type": "execute_result"
    }
   ],
   "source": [
    "np.multiply(g,3)"
   ]
  },
  {
   "cell_type": "code",
   "execution_count": 50,
   "id": "029c0403-58c9-4298-9e1e-e9a04261909f",
   "metadata": {},
   "outputs": [
    {
     "data": {
      "text/plain": [
       "array([1.        , 1.41421356, 1.73205081, 2.        , 2.23606798])"
      ]
     },
     "execution_count": 50,
     "metadata": {},
     "output_type": "execute_result"
    }
   ],
   "source": [
    "np.sqrt(g)"
   ]
  },
  {
   "cell_type": "code",
   "execution_count": 52,
   "id": "a66c9f49-8f8c-45fd-a47e-0469c248100e",
   "metadata": {},
   "outputs": [
    {
     "data": {
      "text/plain": [
       "array([0.2, 0.4, 0.6, 0.8, 1. ])"
      ]
     },
     "execution_count": 52,
     "metadata": {},
     "output_type": "execute_result"
    }
   ],
   "source": [
    "np.divide(g,5)"
   ]
  },
  {
   "cell_type": "code",
   "execution_count": 53,
   "id": "3cdc5b7e-cc93-40d9-80da-e32065a030b0",
   "metadata": {},
   "outputs": [
    {
     "data": {
      "text/plain": [
       "array([  1,   8,  27,  64, 125], dtype=int32)"
      ]
     },
     "execution_count": 53,
     "metadata": {},
     "output_type": "execute_result"
    }
   ],
   "source": [
    "np.power(g,3)"
   ]
  },
  {
   "cell_type": "code",
   "execution_count": 55,
   "id": "c3fe77a1-f90a-4d83-9359-8167fcf65353",
   "metadata": {},
   "outputs": [
    {
     "data": {
      "text/plain": [
       "array([1, 0, 1, 0, 1], dtype=int32)"
      ]
     },
     "execution_count": 55,
     "metadata": {},
     "output_type": "execute_result"
    }
   ],
   "source": [
    "np. mod(g,2)"
   ]
  },
  {
   "cell_type": "code",
   "execution_count": 56,
   "id": "c477cc9b-d9ab-4ff1-89f5-815c12ee4b5b",
   "metadata": {},
   "outputs": [
    {
     "data": {
      "text/plain": [
       "array([1, 2, 3, 4, 5])"
      ]
     },
     "execution_count": 56,
     "metadata": {},
     "output_type": "execute_result"
    }
   ],
   "source": [
    "np.absolute(g)"
   ]
  },
  {
   "cell_type": "code",
   "execution_count": 57,
   "id": "719b5418-5cff-499d-9804-5bbf7c45db1d",
   "metadata": {},
   "outputs": [
    {
     "data": {
      "text/plain": [
       "array([ 0.84147098,  0.90929743,  0.14112001, -0.7568025 , -0.95892427])"
      ]
     },
     "execution_count": 57,
     "metadata": {},
     "output_type": "execute_result"
    }
   ],
   "source": [
    "np.sin(g)"
   ]
  },
  {
   "cell_type": "code",
   "execution_count": 58,
   "id": "6b126cda-0be4-490a-8a59-5bf65b207ac6",
   "metadata": {},
   "outputs": [
    {
     "data": {
      "text/plain": [
       "\u001b[1;31mType:\u001b[0m        module\n",
       "\u001b[1;31mString form:\u001b[0m <module 'numpy' from 'D:\\\\Users\\\\ercan\\\\anaconda31\\\\lib\\\\site-packages\\\\numpy\\\\__init__.py'>\n",
       "\u001b[1;31mFile:\u001b[0m        d:\\users\\ercan\\anaconda31\\lib\\site-packages\\numpy\\__init__.py\n",
       "\u001b[1;31mDocstring:\u001b[0m  \n",
       "NumPy\n",
       "=====\n",
       "\n",
       "Provides\n",
       "  1. An array object of arbitrary homogeneous items\n",
       "  2. Fast mathematical operations over arrays\n",
       "  3. Linear Algebra, Fourier Transforms, Random Number Generation\n",
       "\n",
       "How to use the documentation\n",
       "----------------------------\n",
       "Documentation is available in two forms: docstrings provided\n",
       "with the code, and a loose standing reference guide, available from\n",
       "`the NumPy homepage <https://numpy.org>`_.\n",
       "\n",
       "We recommend exploring the docstrings using\n",
       "`IPython <https://ipython.org>`_, an advanced Python shell with\n",
       "TAB-completion and introspection capabilities.  See below for further\n",
       "instructions.\n",
       "\n",
       "The docstring examples assume that `numpy` has been imported as `np`::\n",
       "\n",
       "  >>> import numpy as np\n",
       "\n",
       "Code snippets are indicated by three greater-than signs::\n",
       "\n",
       "  >>> x = 42\n",
       "  >>> x = x + 1\n",
       "\n",
       "Use the built-in ``help`` function to view a function's docstring::\n",
       "\n",
       "  >>> help(np.sort)\n",
       "  ... # doctest: +SKIP\n",
       "\n",
       "For some objects, ``np.info(obj)`` may provide additional help.  This is\n",
       "particularly true if you see the line \"Help on ufunc object:\" at the top\n",
       "of the help() page.  Ufuncs are implemented in C, not Python, for speed.\n",
       "The native Python help() does not know how to view their help, but our\n",
       "np.info() function does.\n",
       "\n",
       "To search for documents containing a keyword, do::\n",
       "\n",
       "  >>> np.lookfor('keyword')\n",
       "  ... # doctest: +SKIP\n",
       "\n",
       "General-purpose documents like a glossary and help on the basic concepts\n",
       "of numpy are available under the ``doc`` sub-module::\n",
       "\n",
       "  >>> from numpy import doc\n",
       "  >>> help(doc)\n",
       "  ... # doctest: +SKIP\n",
       "\n",
       "Available subpackages\n",
       "---------------------\n",
       "lib\n",
       "    Basic functions used by several sub-packages.\n",
       "random\n",
       "    Core Random Tools\n",
       "linalg\n",
       "    Core Linear Algebra Tools\n",
       "fft\n",
       "    Core FFT routines\n",
       "polynomial\n",
       "    Polynomial tools\n",
       "testing\n",
       "    NumPy testing tools\n",
       "distutils\n",
       "    Enhancements to distutils with support for\n",
       "    Fortran compilers support and more.\n",
       "\n",
       "Utilities\n",
       "---------\n",
       "test\n",
       "    Run numpy unittests\n",
       "show_config\n",
       "    Show numpy build configuration\n",
       "dual\n",
       "    Overwrite certain functions with high-performance SciPy tools.\n",
       "    Note: `numpy.dual` is deprecated.  Use the functions from NumPy or Scipy\n",
       "    directly instead of importing them from `numpy.dual`.\n",
       "matlib\n",
       "    Make everything matrices.\n",
       "__version__\n",
       "    NumPy version string\n",
       "\n",
       "Viewing documentation using IPython\n",
       "-----------------------------------\n",
       "Start IPython with the NumPy profile (``ipython -p numpy``), which will\n",
       "import `numpy` under the alias `np`.  Then, use the ``cpaste`` command to\n",
       "paste examples into the shell.  To see which functions are available in\n",
       "`numpy`, type ``np.<TAB>`` (where ``<TAB>`` refers to the TAB key), or use\n",
       "``np.*cos*?<ENTER>`` (where ``<ENTER>`` refers to the ENTER key) to narrow\n",
       "down the list.  To view the docstring for a function, use\n",
       "``np.cos?<ENTER>`` (to view the docstring) and ``np.cos??<ENTER>`` (to view\n",
       "the source code).\n",
       "\n",
       "Copies vs. in-place operation\n",
       "-----------------------------\n",
       "Most of the functions in `numpy` return a copy of the array argument\n",
       "(e.g., `np.sort`).  In-place versions of these functions are often\n",
       "available as array methods, i.e. ``x = np.array([1,2,3]); x.sort()``.\n",
       "Exceptions to this rule are documented."
      ]
     },
     "metadata": {},
     "output_type": "display_data"
    }
   ],
   "source": [
    "?np"
   ]
  },
  {
   "cell_type": "markdown",
   "id": "2692ad20-fde7-42cf-bbff-2f96b51b94b6",
   "metadata": {},
   "source": [
    "# numpy ile iki bilinmeyenli denklem çözmek"
   ]
  },
  {
   "cell_type": "code",
   "execution_count": 59,
   "id": "ddb709df-154a-45a0-929b-6765fd65483c",
   "metadata": {},
   "outputs": [],
   "source": [
    "import numpy as np"
   ]
  },
  {
   "cell_type": "markdown",
   "id": "efc7493b-9067-4c1f-9ced-4b7f1dcc91fd",
   "metadata": {},
   "source": [
    "5*x0+x1=12\n",
    "x0+3*x1=10"
   ]
  },
  {
   "cell_type": "code",
   "execution_count": 60,
   "id": "39075907-9156-4839-880e-c24c07c6271b",
   "metadata": {},
   "outputs": [],
   "source": [
    "a=np.array([[5,1],[1,3]])\n",
    "b=np.array([12,10])"
   ]
  },
  {
   "cell_type": "code",
   "execution_count": 61,
   "id": "6302d79e-5671-482a-9313-6d57f846fac1",
   "metadata": {},
   "outputs": [
    {
     "data": {
      "text/plain": [
       "array([12, 10])"
      ]
     },
     "execution_count": 61,
     "metadata": {},
     "output_type": "execute_result"
    }
   ],
   "source": [
    "a\n",
    "b"
   ]
  },
  {
   "cell_type": "code",
   "execution_count": 62,
   "id": "de4a6bfc-d20b-4e27-9b4b-d83521b7be6e",
   "metadata": {},
   "outputs": [
    {
     "data": {
      "text/plain": [
       "array([[5, 1],\n",
       "       [1, 3]])"
      ]
     },
     "execution_count": 62,
     "metadata": {},
     "output_type": "execute_result"
    }
   ],
   "source": [
    "a"
   ]
  },
  {
   "cell_type": "code",
   "execution_count": 63,
   "id": "9377971c-7cd3-48eb-aa5c-3f2483e40b4c",
   "metadata": {},
   "outputs": [],
   "source": [
    "x=np.linalg.solve(a,b)"
   ]
  },
  {
   "cell_type": "code",
   "execution_count": 64,
   "id": "c77c2939-ad51-4128-aa36-e42fbf76a0b9",
   "metadata": {},
   "outputs": [
    {
     "data": {
      "text/plain": [
       "array([1.85714286, 2.71428571])"
      ]
     },
     "execution_count": 64,
     "metadata": {},
     "output_type": "execute_result"
    }
   ],
   "source": [
    "x"
   ]
  },
  {
   "cell_type": "code",
   "execution_count": null,
   "id": "a7768ddb-1dc2-4c89-a519-faa6eaf90153",
   "metadata": {},
   "outputs": [],
   "source": []
  }
 ],
 "metadata": {
  "kernelspec": {
   "display_name": "Python 3 (ipykernel)",
   "language": "python",
   "name": "python3"
  },
  "language_info": {
   "codemirror_mode": {
    "name": "ipython",
    "version": 3
   },
   "file_extension": ".py",
   "mimetype": "text/x-python",
   "name": "python",
   "nbconvert_exporter": "python",
   "pygments_lexer": "ipython3",
   "version": "3.10.9"
  }
 },
 "nbformat": 4,
 "nbformat_minor": 5
}
